{
 "cells": [
  {
   "cell_type": "markdown",
   "id": "d2f7c62b-b5be-4b62-80d9-ab3eab8af2cf",
   "metadata": {},
   "source": [
    "# Length of a string\n",
    "* In Python, the length of a string can be found using the len() function, which returns the number of characters in the string"
   ]
  },
  {
   "cell_type": "code",
   "execution_count": 8,
   "id": "0692efa8-43a1-4a34-b223-fd05a9e32980",
   "metadata": {},
   "outputs": [
    {
     "name": "stdout",
     "output_type": "stream",
     "text": [
      "13\n"
     ]
    }
   ],
   "source": [
    "my_string = \"Hello, World!\"\n",
    "length = len(my_string)\n",
    "print(length)"
   ]
  },
  {
   "cell_type": "markdown",
   "id": "79180ec9-6674-4780-9577-2dc43fdccf67",
   "metadata": {},
   "source": [
    "# Converting to uppercase\n",
    "* The upper() method in Python is used to convert all lowercase characters in a string"
   ]
  },
  {
   "cell_type": "code",
   "execution_count": 11,
   "id": "e5bbaaa3-299a-41c9-9ead-6fd4b6729675",
   "metadata": {},
   "outputs": [
    {
     "name": "stdout",
     "output_type": "stream",
     "text": [
      "HELLO, WORLD!\n"
     ]
    }
   ],
   "source": [
    "my_string = \"Hello, World!\"\n",
    "upper_string = my_string.upper()\n",
    "print(upper_string)"
   ]
  },
  {
   "cell_type": "markdown",
   "id": "ff277938-de54-401c-ab42-9e082171c720",
   "metadata": {},
   "source": [
    "# Converting to lowercase\n",
    "* Python string lower() method converts all letters of a string to lowercase\n",
    "  "
   ]
  },
  {
   "cell_type": "code",
   "execution_count": 14,
   "id": "cc3a635c-f83f-4f8f-896a-d26386422893",
   "metadata": {},
   "outputs": [
    {
     "name": "stdout",
     "output_type": "stream",
     "text": [
      "hello, world!\n"
     ]
    }
   ],
   "source": [
    "my_string = \"Hello, World!\"\n",
    "lower_string = my_string.lower()\n",
    "print(lower_string)"
   ]
  },
  {
   "cell_type": "markdown",
   "id": "bbc0408c-4196-4f2a-bd4a-353fa7493e65",
   "metadata": {},
   "source": [
    "# Replacing a substring\n",
    "* the Python string replace() method to replace some or all occurrences of a substring with a new substring"
   ]
  },
  {
   "cell_type": "code",
   "execution_count": 17,
   "id": "22c93ea0-27db-4b95-98cb-11a2c8458e03",
   "metadata": {},
   "outputs": [
    {
     "name": "stdout",
     "output_type": "stream",
     "text": [
      "Hello, Python!\n"
     ]
    }
   ],
   "source": [
    "my_string = \"Hello, World!\"\n",
    "new_string = my_string.replace(\"World\", \"Python\")\n",
    "print(new_string)"
   ]
  },
  {
   "cell_type": "markdown",
   "id": "358dc378-997c-4d75-9054-868fd2ff4291",
   "metadata": {},
   "source": [
    "# Splitting a string into a list\n",
    "*  This method splits a string into a list where each word is a list item"
   ]
  },
  {
   "cell_type": "code",
   "execution_count": 28,
   "id": "f731220d-5656-4521-b6d1-d4b211874e9a",
   "metadata": {},
   "outputs": [
    {
     "name": "stdout",
     "output_type": "stream",
     "text": [
      "['Hello', 'World!']\n"
     ]
    }
   ],
   "source": [
    "my_string = \"Hello, World!\"\n",
    "words = my_string.split(\", \")\n",
    "print(words) "
   ]
  },
  {
   "cell_type": "markdown",
   "id": "5c10a313-ed3e-4db4-a4b8-11f3f1736329",
   "metadata": {},
   "source": [
    "# Joining a list into a string\n",
    "* This method is called on a string that acts as a separator"
   ]
  },
  {
   "cell_type": "code",
   "execution_count": 31,
   "id": "adcd12d5-905b-46fc-a6ea-c6e064388a12",
   "metadata": {},
   "outputs": [
    {
     "name": "stdout",
     "output_type": "stream",
     "text": [
      "Hello World!\n"
     ]
    }
   ],
   "source": [
    "words = ['Hello', 'World!']\n",
    "my_string = \" \".join(words)\n",
    "print(my_string) "
   ]
  },
  {
   "cell_type": "markdown",
   "id": "fc9f530a-3792-4f9d-b8fe-481ec89e62d9",
   "metadata": {},
   "source": [
    "# Finding a substring\n",
    "* The find() is a string method that finds a substring in a string and returns the index of the substring"
   ]
  },
  {
   "cell_type": "code",
   "execution_count": 34,
   "id": "6c0bfe95-7fdb-4967-b212-9c45a1de5188",
   "metadata": {},
   "outputs": [
    {
     "name": "stdout",
     "output_type": "stream",
     "text": [
      "7\n"
     ]
    }
   ],
   "source": [
    "my_string = \"Hello, World!\"\n",
    "index = my_string.find(\"World\")\n",
    "print(index)"
   ]
  },
  {
   "cell_type": "markdown",
   "id": "f7611837-1ccf-4e91-85ae-e54313eeb3e2",
   "metadata": {},
   "source": [
    "# Checking if a string starts or ends with a specific substring"
   ]
  },
  {
   "cell_type": "code",
   "execution_count": 37,
   "id": "8ba68803-1a4c-4a5c-a0af-91fc262199b5",
   "metadata": {},
   "outputs": [
    {
     "name": "stdout",
     "output_type": "stream",
     "text": [
      "True\n",
      "True\n"
     ]
    }
   ],
   "source": [
    "my_string = \"Hello, World!\"\n",
    "starts_with_hello = my_string.startswith(\"Hello\")\n",
    "ends_with_world = my_string.endswith(\"World!\")\n",
    "print(starts_with_hello)\n",
    "print(ends_with_world) "
   ]
  },
  {
   "cell_type": "markdown",
   "id": "b29d8f07-43b4-46ee-b04f-0f18513bf914",
   "metadata": {},
   "source": [
    "# Stripping whitespace from a string\n"
   ]
  },
  {
   "cell_type": "code",
   "execution_count": 40,
   "id": "29e9de2e-de78-4fe9-b621-e88ba03711e7",
   "metadata": {},
   "outputs": [
    {
     "name": "stdout",
     "output_type": "stream",
     "text": [
      "Hello, World!\n"
     ]
    }
   ],
   "source": [
    "my_string = \"   Hello, World!   \"\n",
    "stripped_string = my_string.strip()\n",
    "print(stripped_string)"
   ]
  },
  {
   "cell_type": "markdown",
   "id": "bc36404b-eff8-4d37-8f67-ed165600381d",
   "metadata": {},
   "source": [
    "# Concatenating strings\n",
    "* In Python, string concatenation is the process of joining two or more strings into a single string.\n",
    "  "
   ]
  },
  {
   "cell_type": "code",
   "execution_count": 43,
   "id": "491674f0-2e01-41e9-b25e-5f1e7cdcb158",
   "metadata": {},
   "outputs": [
    {
     "name": "stdout",
     "output_type": "stream",
     "text": [
      "Hello, World!\n"
     ]
    }
   ],
   "source": [
    "str1 = \"Hello\"\n",
    "str2 = \"World\"\n",
    "concatenated_string = str1 + \", \" + str2 + \"!\"\n",
    "print(concatenated_string)"
   ]
  },
  {
   "cell_type": "markdown",
   "id": "c6ab5271-2e8f-4c46-a539-ba8a73f139c5",
   "metadata": {},
   "source": [
    "# String Count: count()\n",
    "* Counts the number of occurrences of a substring in a string."
   ]
  },
  {
   "cell_type": "code",
   "execution_count": 46,
   "id": "1722e91c-9135-443b-8336-d53d21830c34",
   "metadata": {},
   "outputs": [
    {
     "name": "stdout",
     "output_type": "stream",
     "text": [
      "2\n"
     ]
    }
   ],
   "source": [
    "text = \"Hello, World! Hello, Python!\"\n",
    "count = text.count(\"Hello\")\n",
    "print(count)"
   ]
  },
  {
   "cell_type": "markdown",
   "id": "b54886d4-5baa-42e2-bffa-f7ff866265bf",
   "metadata": {},
   "source": [
    "#  String Partition: partition()\n",
    "* Splits the string at the first occurrence of a specified separator and returns a tuple."
   ]
  },
  {
   "cell_type": "code",
   "execution_count": 51,
   "id": "11226876-d9b0-4c71-b28a-11f40864853b",
   "metadata": {},
   "outputs": [
    {
     "name": "stdout",
     "output_type": "stream",
     "text": [
      "('Hello', ',', ' World!')\n"
     ]
    }
   ],
   "source": [
    "text = \"Hello, World!\"\n",
    "result = text.partition(\",\")\n",
    "print(result)"
   ]
  },
  {
   "cell_type": "markdown",
   "id": "042ca296-d4e3-49dd-915b-33a331234411",
   "metadata": {},
   "source": [
    "# String Isdigit: isdigit()\n",
    "* Checks if all characters in the string are digits."
   ]
  },
  {
   "cell_type": "code",
   "execution_count": 54,
   "id": "c04743c8-2bf5-4d0c-89e9-f5d912d4d833",
   "metadata": {},
   "outputs": [
    {
     "name": "stdout",
     "output_type": "stream",
     "text": [
      "True\n"
     ]
    }
   ],
   "source": [
    "text = \"12345\"\n",
    "result = text.isdigit()\n",
    "print(result) "
   ]
  },
  {
   "cell_type": "code",
   "execution_count": 56,
   "id": "82821b03-e9b1-40cc-b05e-7b2644d97528",
   "metadata": {},
   "outputs": [
    {
     "name": "stdout",
     "output_type": "stream",
     "text": [
      "False\n"
     ]
    }
   ],
   "source": [
    "text = \"123a5\"\n",
    "result = text.isdigit()\n",
    "print(result)"
   ]
  },
  {
   "cell_type": "markdown",
   "id": "8d401fb2-291a-4a0b-b61d-636ef57ef3af",
   "metadata": {},
   "source": [
    "#  String Strip: strip(), lstrip(), rstrip()\n",
    "* Removes whitespace (or other specified characters) from the beginning and end of a string.\n"
   ]
  },
  {
   "cell_type": "code",
   "execution_count": 59,
   "id": "3ed2b799-7f95-424b-926c-b3b351bf2f25",
   "metadata": {},
   "outputs": [
    {
     "name": "stdout",
     "output_type": "stream",
     "text": [
      "Hello, World!\n",
      "Hello, World!   \n",
      "   Hello, World!\n"
     ]
    }
   ],
   "source": [
    "text = \"   Hello, World!   \"\n",
    "stripped = text.strip()\n",
    "lstripped = text.lstrip()\n",
    "rstripped = text.rstrip()\n",
    "print(stripped)   \n",
    "print(lstripped)   \n",
    "print(rstripped)  "
   ]
  },
  {
   "cell_type": "markdown",
   "id": "60aa5500-435c-4e04-ae6b-ab1a0f173e15",
   "metadata": {},
   "source": [
    "#  String Formatting: format()\n",
    "* Formats the string with placeholders."
   ]
  },
  {
   "cell_type": "code",
   "execution_count": 62,
   "id": "9feec851-231e-48eb-82db-23f1134cb4b8",
   "metadata": {},
   "outputs": [
    {
     "name": "stdout",
     "output_type": "stream",
     "text": [
      "My name is Alice and I am 30 years old.\n"
     ]
    }
   ],
   "source": [
    "template = \"My name is {} and I am {} years old.\"\n",
    "formatted = template.format(\"Alice\", 30)\n",
    "print(formatted)"
   ]
  },
  {
   "cell_type": "code",
   "execution_count": null,
   "id": "67095727-35dd-4339-84e3-bb816fc1e020",
   "metadata": {},
   "outputs": [],
   "source": []
  }
 ],
 "metadata": {
  "kernelspec": {
   "display_name": "Python 3 (ipykernel)",
   "language": "python",
   "name": "python3"
  },
  "language_info": {
   "codemirror_mode": {
    "name": "ipython",
    "version": 3
   },
   "file_extension": ".py",
   "mimetype": "text/x-python",
   "name": "python",
   "nbconvert_exporter": "python",
   "pygments_lexer": "ipython3",
   "version": "3.12.4"
  }
 },
 "nbformat": 4,
 "nbformat_minor": 5
}
